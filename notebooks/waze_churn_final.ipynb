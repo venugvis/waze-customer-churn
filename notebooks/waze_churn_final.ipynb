{
 "cells": [
  {
   "cell_type": "markdown",
   "metadata": {},
   "source": [
    "# 🚧 Under Construction 🚧  \n",
    "This notebook is still brewing some insights ☕  \n",
    "While you wait, enjoy this little loader:\n",
    "\n",
    "![loading](https://media.giphy.com/media/y1ZBcOGOOtlpC/giphy.gif)\n"
   ]
  },
  {
   "cell_type": "markdown",
   "metadata": {},
   "source": [
    "# Waze Customer Churn Analysis\n",
    "\n",
    "**Author:** Vishnu Venugopal  \n",
    "**Role:** Data Analyst at Waze (Simulation)  \n",
    "**Project Type:** Certification Project – Google Advanced Data Analytics  \n",
    "**Tools Used:** Python, Pandas, NumPy, Matplotlib, Seaborn, Scikit-learn, SciPy  \n",
    "\n",
    "---\n",
    "\n",
    "## 📌 Business Context\n",
    "\n",
    "Waze is seeking to improve its user retention by identifying users likely to churn. As a data analyst on the team, I conducted an end-to-end analysis using the PACE (Plan, Analyze, Construct, Execute) framework. The goal is to develop a churn prediction model and offer actionable insights for stakeholder decisions.\n",
    "\n",
    "## 🎯 Objectives\n",
    "\n",
    "- Understand user behavior contributing to churn  \n",
    "- Perform hypothesis testing and regression analysis  \n",
    "- Build a machine learning classification model to predict churn  \n",
    "- Provide clear insights and recommendations to reduce churn\n",
    "\n",
    "---\n",
    "\n",
    "> *Note: This project spans multiple phases, initially developed over six structured notebooks across the Google Advanced DA curriculum, and merged here into one streamlined, professional analysis.*\n"
   ]
  },
  {
   "cell_type": "markdown",
   "metadata": {},
   "source": []
  }
 ],
 "metadata": {
  "kernelspec": {
   "display_name": "Python 3",
   "language": "python",
   "name": "python3"
  },
  "language_info": {
   "codemirror_mode": {
    "name": "ipython",
    "version": 3
   },
   "file_extension": ".py",
   "mimetype": "text/x-python",
   "name": "python",
   "nbconvert_exporter": "python",
   "pygments_lexer": "ipython3",
   "version": "3.12.4"
  }
 },
 "nbformat": 4,
 "nbformat_minor": 2
}
