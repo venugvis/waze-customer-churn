{
 "cells": [
  {
   "cell_type": "markdown",
   "metadata": {},
   "source": [
    "# 🚧 Under Construction 🚧\n",
    "\n",
    "This notebook is currently being built! Stay tuned for some cool churn analysis using Waze-style data.  \n",
    "While you're here, enjoy a cute animation below 👇\n"
   ]
  },
  {
   "cell_type": "code",
   "execution_count": null,
   "metadata": {},
   "outputs": [
    {
     "name": "stdout",
     "output_type": "stream",
     "text": [
      "Building your data story... ( •_•)\n"
     ]
    }
   ],
   "source": [
    "import time\n",
    "from IPython.display import clear_output, display\n",
    "\n",
    "def loading_animation(duration=5):\n",
    "    frames = [\"( •_•)\", \"( •_•)>⌐■-■\", \"(⌐■_■)\", \"( •_•)>⌐■-■\", \"( •_•)\"]\n",
    "    start = time.time()\n",
    "    \n",
    "    while time.time() - start < duration:\n",
    "        for frame in frames:\n",
    "            clear_output(wait=True)\n",
    "            print(\"Building your data story... \" + frame)\n",
    "            time.sleep(0.4)\n",
    "\n",
    "loading_animation()"
   ]
  }
 ],
 "metadata": {
  "kernelspec": {
   "display_name": "Python 3",
   "language": "python",
   "name": "python3"
  },
  "language_info": {
   "codemirror_mode": {
    "name": "ipython",
    "version": 3
   },
   "file_extension": ".py",
   "mimetype": "text/x-python",
   "name": "python",
   "nbconvert_exporter": "python",
   "pygments_lexer": "ipython3",
   "version": "3.12.4"
  }
 },
 "nbformat": 4,
 "nbformat_minor": 2
}
